{
 "cells": [
  {
   "cell_type": "markdown",
   "metadata": {},
   "source": [
    "# Unit 5 - Financial Planning"
   ]
  },
  {
   "cell_type": "code",
   "execution_count": null,
   "metadata": {},
   "outputs": [],
   "source": [
    "# Imported the necessary libraries for project\n",
    "\n",
    "import os\n",
    "\n",
    "import requests\n",
    "\n",
    "import pandas as pd\n",
    "\n",
    "from dotenv import load_dotenv\n",
    "\n",
    "import alpaca_trade_api as tradeapi\n",
    "\n",
    "from MCForecastTools import MCSimulation\n",
    "\n",
    "%matplotlib inline"
   ]
  },
  {
   "cell_type": "code",
   "execution_count": null,
   "metadata": {},
   "outputs": [],
   "source": [
    "# Loaded .env enviroment variables\n",
    "\n",
    "load_dotenv()"
   ]
  },
  {
   "cell_type": "markdown",
   "metadata": {},
   "source": [
    "## Part 1 - Personal Finance Planner"
   ]
  },
  {
   "cell_type": "markdown",
   "metadata": {},
   "source": [
    "### Collect Crypto Prices Using the `requests` Library"
   ]
  },
  {
   "cell_type": "code",
   "execution_count": null,
   "metadata": {},
   "outputs": [],
   "source": [
    "# Created two variables called my_btc and my_eth. Set them equal to 1.2 and 5.3, respectively.\n",
    "\n",
    "my_btc = 1.2\n",
    "\n",
    "my_eth = 5.3"
   ]
  },
  {
   "cell_type": "code",
   "execution_count": null,
   "metadata": {},
   "outputs": [],
   "source": [
    "# Prepared Crypto API URLs\n",
    "\n",
    "btc_url = \"https://api.alternative.me/v2/ticker/Bitcoin/?convert=CAD\"\n",
    "\n",
    "eth_url = \"https://api.alternative.me/v2/ticker/Ethereum/?convert=CAD\""
   ]
  },
  {
   "cell_type": "code",
   "execution_count": null,
   "metadata": {},
   "outputs": [],
   "source": [
    "# Fetched current BTC price in Canadian dollars\n",
    "\n",
    "btc_price = requests.get(btc_url).json()\n",
    "\n",
    "btc_price = btc_price[\"data\"][\"1\"][\"quotes\"][\"CAD\"][\"price\"]\n",
    "\n",
    "# Fetched current ETH price in Canadian dollars\n",
    "\n",
    "eth_price = requests.get(eth_url).json()\n",
    "\n",
    "eth_price = eth_price[\"data\"][\"1027\"][\"quotes\"][\"CAD\"][\"price\"]\n",
    "\n",
    "# Printed current value of BTC-CAD and ETH-CAD \n",
    "\n",
    "print(f\"BTC-CAD: ${btc_price:0.2f}\")\n",
    "\n",
    "print(f\"ETH-CAD: ${eth_price:0.2f}\")"
   ]
  },
  {
   "cell_type": "code",
   "execution_count": null,
   "metadata": {},
   "outputs": [],
   "source": [
    "# Computed the current portfolio value of cryptocurrencies.\n",
    "\n",
    "btc_value = btc_price * my_btc\n",
    "\n",
    "eth_value = eth_price * my_eth\n",
    "\n",
    "# Printed current crypto wallet balance.\n",
    "\n",
    "print(f\"The current value of your {my_btc} BTC-CAD is ${btc_value:0.2f}\")\n",
    "\n",
    "print(f\"The current value of your {my_eth} ETH-CAD is ${eth_value:0.2f}\")\n",
    "\n",
    "\n"
   ]
  },
  {
   "cell_type": "markdown",
   "metadata": {},
   "source": [
    "### Collect Investments Data Using Alpaca: `SPY` (stocks) and `AGG` (bonds)"
   ]
  },
  {
   "cell_type": "code",
   "execution_count": null,
   "metadata": {},
   "outputs": [],
   "source": [
    "# Created two variables named my_agg and my_spy and set them equal to 200 and 50, respectively.\n",
    "\n",
    "my_agg = 200\n",
    "\n",
    "my_spy = 50"
   ]
  },
  {
   "cell_type": "code",
   "execution_count": null,
   "metadata": {},
   "outputs": [],
   "source": [
    "# Initialized Alpaca API key and secret.\n",
    "\n",
    "alpaca_api_key = os.getenv(\"alpaca_akey\")\n",
    "\n",
    "alpaca_secret_key = os.getenv(\"alpaca_skey\")\n",
    "\n",
    "# Created the Alpaca API object.\n",
    "\n",
    "api = tradeapi.REST(\n",
    "    alpaca_api_key,\n",
    "    alpaca_secret_key,\n",
    "    api_version = \"v2\"\n",
    ")"
   ]
  },
  {
   "cell_type": "code",
   "execution_count": null,
   "metadata": {},
   "outputs": [],
   "source": [
    "# Formatted current date as ISO format.\r\n",
    "\r\n",
    "## 1000 trading days from 2021-06-13\r\n",
    "\r\n",
    "start_date = pd.Timestamp(\"2017-06-22\", tz=\"America/New_York\").isoformat()\r\n",
    "\r\n",
    "end_date = pd.Timestamp(\"2021-06-13\", tz=\"America/New_York\").isoformat()\r\n",
    "\r\n",
    "# Created tickers variable.\r\n",
    "\r\n",
    "tickers = [\"AGG\", \"SPY\"]\r\n",
    "\r\n",
    "# Formatted timeframe to '1D' for Alpaca API.\r\n",
    "\r\n",
    "timeframe = \"1D\"\r\n",
    "\r\n",
    "# Retrieved current closing prices for SPY and AGG. Created a parameter to call the most recent 1000 days of data.\r\n",
    "\r\n",
    "tickers_df = api.get_barset(\r\n",
    "    tickers,\r\n",
    "    timeframe,\r\n",
    "    start=start_date,\r\n",
    "    end=end_date,\r\n",
    "    limit=1000\r\n",
    ").df\r\n",
    "\r\n",
    "\r\n",
    "# Initialized tickers_df\r\n",
    "\r\n",
    "tickers_df.sort_index(ascending=True)\r\n"
   ]
  },
  {
   "cell_type": "code",
   "execution_count": null,
   "metadata": {},
   "outputs": [],
   "source": [
    "# Assessed data quality by determining the number of nulls from tickers_df\n",
    "\n",
    "tickers_df.isnull().sum()\n",
    "\n",
    "# Dropped records with null from tickers_df\n",
    "\n",
    "tickers_df.dropna(inplace = True)\n",
    "\n",
    "# Initialized last row from tickers_df to get closing prices of AGG and SPY\n",
    "\n",
    "tickers_df.tail(1)"
   ]
  },
  {
   "cell_type": "code",
   "execution_count": null,
   "metadata": {},
   "outputs": [],
   "source": [
    "# Intialized AGG and SPY closing prices\n",
    "\n",
    "agg_closing_price = tickers_df.tail(1)[\"AGG\"][\"close\"][0]\n",
    "\n",
    "spy_closing_price = tickers_df.tail(1)[\"SPY\"][\"close\"][0]\n",
    "\n",
    "# Printed current AGG and SPY closing prices\n",
    "\n",
    "print(f\"Current AGG closing price: ${agg_closing_price}\")\n",
    "\n",
    "print(f\"Current SPY closing price: ${spy_closing_price}\")"
   ]
  },
  {
   "cell_type": "code",
   "execution_count": null,
   "metadata": {},
   "outputs": [],
   "source": [
    "# Computed the current portfolio value of shares.\n",
    "\n",
    "agg_value = agg_closing_price * my_agg\n",
    "\n",
    "spy_value = spy_closing_price * my_spy\n",
    "\n",
    "# Printed current value of shares\n",
    "\n",
    "print(f\"The current value of your {my_agg} AGG shares is ${spy_value:0.2f}\")\n",
    "\n",
    "print(f\"The current value of your {my_spy} SPY shares is ${agg_value:0.2f}\")"
   ]
  },
  {
   "cell_type": "markdown",
   "metadata": {},
   "source": [
    "### Savings Health Analysis"
   ]
  },
  {
   "cell_type": "code",
   "execution_count": null,
   "metadata": {},
   "outputs": [],
   "source": [
    "# Created a variable of monthly household income with a value of \"12000\"\n",
    "\n",
    "monthly_income = 12000\n",
    "\n",
    "# Created a DataFrame called savings_df with two rows. Stored the total value in dollars of the crypto assets in the first row and the total value of the shares in the second row.\n",
    "\n",
    "savings_df = pd.DataFrame([\n",
    "    btc_value + eth_value,\n",
    "    agg_value + spy_value\n",
    "],\n",
    "    columns=[\"Amount\"],\n",
    "    index=[\"Crypto\", \"Shares\"]\n",
    ")\n",
    "\n",
    "# Initialized savings_df\n",
    "\n",
    "savings_df"
   ]
  },
  {
   "cell_type": "code",
   "execution_count": null,
   "metadata": {},
   "outputs": [],
   "source": [
    "# Used the savings_df DataFrame to plot a pie chart to visualize the composition of personal savings.\r\n",
    "\r\n",
    "savings_df.plot.pie( y =\"Amount\", title = \"Composition of Personal Savings\", startangle=90)\r\n",
    "\r\n"
   ]
  },
  {
   "cell_type": "code",
   "execution_count": null,
   "metadata": {},
   "outputs": [],
   "source": [
    "# Prepared variables for conditional statements to validate if the current savings are enough for an emergency fund. An ideal emergency fund should be equal to three times your monthly income.\n",
    "\n",
    "# Created a variable for emergency fund.\n",
    "\n",
    "emergency_fund = monthly_income * 3\n",
    "\n",
    "# Calculated total amount of savings\n",
    "\n",
    "total_savings = savings_df[\"Amount\"].sum()\n",
    "\n",
    "print(f\"Total Savings: ${total_savings:0.2f}\")\n",
    "\n",
    "# Validated if total savings are enough to cover for emergency fund.\n",
    "\n",
    "if total_savings > emergency_fund:\n",
    "\n",
    "    print(f\"Congratulations! You have more than enough savings to cover your emergency fund.\")\n",
    "\n",
    "elif total_savings == emergency_fund:\n",
    "\n",
    "    print(f\"Congratulations! You have reached your financial goal.\")\n",
    "\n",
    "else:\n",
    "\n",
    "    print(f\"Sorry! You do not have enough savings to cover your emergency fund. You need exactly ${emergency_fund - total_savings} to reach your financial goal.\")\n"
   ]
  },
  {
   "cell_type": "markdown",
   "metadata": {},
   "source": [
    "## Part 2 - Retirement Planning\n",
    "\n",
    "### Monte Carlo Simulation"
   ]
  },
  {
   "cell_type": "code",
   "execution_count": null,
   "metadata": {},
   "outputs": [],
   "source": [
    "# Collated and prepared variables to run Monte Carlo Simulations for AGG and SPY stock using recent historical data from \"2016-06-14 to 2021-06-14\"\r\n",
    "\r\n",
    "## Take Note: Sample results may vary from the solution based on the time frame chosen.\r\n",
    "\r\n",
    "# Retrieved current closing prices for SPY and AGG. \r\n",
    "\r\n",
    "# Dataframe was created on 2021-06-14 calculated 1000 trading days going backwards. Start date was set to \"2017-07-23\"\r\n",
    "\r\n",
    "# Initialized tickers_df\r\n",
    "\r\n",
    "tickers_df = api.get_barset(\r\n",
    "    tickers,\r\n",
    "    timeframe,\r\n",
    "    start=start_date,\r\n",
    "    end=end_date,\r\n",
    "    limit=1000\r\n",
    ").df\r\n",
    "\r\n",
    "\r\n",
    "# Initialized tickers_df\r\n",
    "\r\n",
    "tickers_df.sort_index(ascending=True)\r\n"
   ]
  },
  {
   "cell_type": "code",
   "execution_count": null,
   "metadata": {},
   "outputs": [],
   "source": [
    "# Created end date variable to retrieve the remaining historical data to complete the five year frame.\r\n",
    "\r\n",
    "## tickers_df data includes historical data from (2017-06-23 to 2021-06-14) which is equivalent to exactly 1000 trading days\r\n",
    "\r\n",
    "# Created a end_date2 variable \r\n",
    "\r\n",
    "end_date2 = pd.Timestamp(\"2017-06-21\", tz='America/New_York').isoformat()\r\n",
    "\r\n",
    "# Retrieved the remaining years' of historical data for AGG and SPY. Created a new variable tickers2_df and changed parameter to limit=260 to complete 1260 trading days back from \"2021-06-14\"\r\n",
    "\r\n",
    "tickers2_df = api.get_barset(\r\n",
    "    tickers,\r\n",
    "    timeframe,\r\n",
    "    end=end_date2,\r\n",
    "    limit=260\r\n",
    ").df\r\n",
    "\r\n",
    "# Initialized missing historical data to complete five year frame.\r\n",
    "\r\n",
    "tickers2_df.sort_index(ascending=True)"
   ]
  },
  {
   "cell_type": "code",
   "execution_count": null,
   "metadata": {},
   "outputs": [],
   "source": [
    "# Checked tickers2_df for nulls.\r\n",
    "\r\n",
    "tickers2_df.isnull().sum()"
   ]
  },
  {
   "cell_type": "code",
   "execution_count": null,
   "metadata": {},
   "outputs": [],
   "source": [
    "# Combined tickers_df and tickers2_df to complete 5 year time frame from \"2021-06-14\". Created a new dataset labeled as combined_data_df.\r\n",
    "\r\n",
    "combined_data_df = pd.concat([tickers_df, tickers2_df], axis = 0, join =\"inner\")\r\n",
    "\r\n",
    "# Initialized combined_data_df.\r\n",
    "\r\n",
    "combined_data_df.sort_index(ascending=True)\r\n"
   ]
  },
  {
   "cell_type": "code",
   "execution_count": null,
   "metadata": {},
   "outputs": [],
   "source": [
    "# Checked data for nulls and duplicates. Prepared data for initialization.\r\n",
    "\r\n",
    "combined_data_df.isnull().sum()\r\n",
    "\r\n",
    "combined_data_df.dropna()\r\n",
    "\r\n",
    "combined_data_df.duplicated().sum()\r\n",
    "\r\n",
    "combined_data_df.duplicated(subset=None, keep='first')\r\n",
    "\r\n",
    "# Initialized combined data frame of historical closing prices of AGG and SPY from \"2016-06-06 to 2021-06-14\"\r\n",
    "\r\n",
    "combined_data_df.sort_index(ascending=True)"
   ]
  },
  {
   "cell_type": "code",
   "execution_count": null,
   "metadata": {},
   "outputs": [],
   "source": [
    "# Configured a Monte Carlo simulation to forecast 30 years cumulative returns using combined_data_df. \r\n",
    "\r\n",
    "mc_30year = mcsimulation(\r\n",
    "    portfolio_data = combined_data_df,\r\n",
    "    weights = [.40,.60],\r\n",
    "    num_simulation = 500,\r\n",
    "    num_trading_days = 252*30\r\n",
    ")"
   ]
  },
  {
   "cell_type": "code",
   "execution_count": null,
   "metadata": {},
   "outputs": [],
   "source": [
    "# Printed the simulation input data of MC_30year.\r\n",
    "\r\n",
    "mc_30year.portfolio_data.sort_index()"
   ]
  },
  {
   "cell_type": "code",
   "execution_count": null,
   "metadata": {},
   "outputs": [],
   "source": [
    "# Initialized a Monte Carlo simulation to forecast 30 years cumulative returns.\r\n",
    "\r\n",
    "mc_30year.calc_cumulative_return()\r\n"
   ]
  },
  {
   "cell_type": "code",
   "execution_count": null,
   "metadata": {},
   "outputs": [],
   "source": [
    "# Plotted simulation outcomes of MC_30year dataframe. \r\n",
    "\r\n",
    "line_plot1 = mc_30year.plot_simulation()"
   ]
  },
  {
   "cell_type": "code",
   "execution_count": null,
   "metadata": {},
   "outputs": [],
   "source": [
    "# Plotted probability distribution and confidence intervals of MC_30year dataframe. \r\n",
    "\r\n",
    "dist_plot1 = mc_30year.plot_distribution()"
   ]
  },
  {
   "cell_type": "markdown",
   "metadata": {},
   "source": [
    "### Retirement Analysis"
   ]
  },
  {
   "cell_type": "code",
   "execution_count": null,
   "metadata": {},
   "outputs": [],
   "source": [
    "# Created summary statistics from the Monte Carlo simulation results for MC_30year dataframe and labeled variable as \"tbl1\"\r\n",
    "\r\n",
    "tbl1 = mc_30year.summarize_cumulative_return()\r\n",
    "\r\n",
    "# Printed summary statistics of \"tbl1\"\r\n",
    "\r\n",
    "tbl1"
   ]
  },
  {
   "cell_type": "markdown",
   "metadata": {},
   "source": [
    "### Calculate the expected portfolio return at the `95%` lower and upper confidence intervals based on a `$20,000` initial investment."
   ]
  },
  {
   "cell_type": "code",
   "execution_count": null,
   "metadata": {},
   "outputs": [],
   "source": [
    "# Created a variable initial_investment1 with a value of 20000. \n",
    "\n",
    "initial_investment1 = 20000\n",
    "\n",
    "# Created variables for the lower and upper `95%` confidence intervals to calculate the range of the possible outcomes of the $20,000 investment.\n",
    "\n",
    "ci_lower1 = round(tbl1[8]*20000,2)\n",
    "\n",
    "ci_upper1 = round(tbl1[9]*20000,2)\n",
    "\n",
    "\n",
    "# Initialized results\n",
    "\n",
    "print(f\"There is a 95% chance that an initial investment of ${initial_investment1} in the portfolio\"\n",
    "      f\" over the next 30 years will end within in the range of\"\n",
    "      f\" ${ci_lower1} and ${ci_upper1}\")\n"
   ]
  },
  {
   "cell_type": "markdown",
   "metadata": {},
   "source": [
    "### Calculate the expected portfolio return at the `95%` lower and upper confidence intervals based on a `50%` increase in the initial investment."
   ]
  },
  {
   "cell_type": "code",
   "execution_count": null,
   "metadata": {},
   "outputs": [],
   "source": [
    "# Created a variable initial_investment2 with a value of 20000 * 1.5. \n",
    "\n",
    "initial_investment2 = 20000 * 1.5\n",
    "\n",
    "# Created variables for the lower and upper `95%` confidence intervals to calculate the range of the possible outcomes of the $30,000 investment.\n",
    "\n",
    "ci_lower2 = round(tbl1[8]*30000,2)\n",
    "\n",
    "ci_upper2 = round(tbl1[9]*30000,2)\n",
    "\n",
    "# Initialized results\n",
    "\n",
    "print(f\"There is a 95% chance that an initial investment of ${initial_investment2} in the portfolio\"\n",
    "      f\" over the next 30 years will end within in the range of\"\n",
    "      f\" ${ci_lower2} and ${ci_upper2}\")"
   ]
  },
  {
   "cell_type": "markdown",
   "metadata": {},
   "source": [
    "## Optional Challenge - Early Retirement\n",
    "\n",
    "\n",
    "### Five Years Retirement Option"
   ]
  },
  {
   "cell_type": "code",
   "execution_count": null,
   "metadata": {},
   "outputs": [],
   "source": [
    "# Configured a Monte Carlo simulation to forecast 5 years cumulative returns.\r\n",
    "\r\n",
    "\r\n",
    "mc_5year = mcsimulation(\r\n",
    "    portfolio_data = combined_data_df,\r\n",
    "    weights = [.40,.60],\r\n",
    "    num_simulation = 500,\r\n",
    "    num_trading_days = 252*5\r\n",
    ")"
   ]
  },
  {
   "cell_type": "code",
   "execution_count": null,
   "metadata": {},
   "outputs": [],
   "source": [
    "# Initialized a Monte Carlo simulation to forecast 5 years cumulative returns.\r\n",
    "\r\n",
    "mc_5year.calc_cumulative_return()\r\n"
   ]
  },
  {
   "cell_type": "code",
   "execution_count": null,
   "metadata": {},
   "outputs": [],
   "source": [
    "# Plotted simulation outcomes for MC_5year dataframe. \r\n",
    "\r\n",
    "line_plot2 = mc_5year.plot_simulation()"
   ]
  },
  {
   "cell_type": "code",
   "execution_count": null,
   "metadata": {},
   "outputs": [],
   "source": [
    "# Plotted probability distribution and confidence intervals for MC_5year dataframe.\r\n",
    "\r\n",
    "dist_plot2 = mc_5year.plot_distribution()"
   ]
  },
  {
   "cell_type": "code",
   "execution_count": null,
   "metadata": {},
   "outputs": [],
   "source": [
    "# Created summary statistics from the Monte Carlo simulation results for MC_5year dataframe and labeled variable as \"tbl2\"\r\n",
    "\r\n",
    "tbl2 = mc_5year.summarize_cumulative_return()\r\n",
    "\r\n",
    "# Printed summary statistics of \"tbl2\"\r\n",
    "\r\n",
    "tbl2"
   ]
  },
  {
   "cell_type": "code",
   "execution_count": null,
   "metadata": {},
   "outputs": [],
   "source": [
    "# Created a variable initial investment3 with the value of 20000 * 3\n",
    "\n",
    "initial_investment3 = 20000 * 3\n",
    "\n",
    "# Created variables for the lower and upper `95%` confidence intervals to calculate the range of the possible outcomes of our $30,000\n",
    "\n",
    "ci_lower3 = round(tbl2[8]*60000,2)\n",
    "\n",
    "ci_upper3 = round(tbl2[9]*60000,2)\n",
    "\n",
    "# Initialized results\n",
    "\n",
    "print(f\"There is a 95% chance that an initial investment of ${initial_investment3} in the portfolio\"\n",
    "      f\" over the next 5 years will end within in the range of\"\n",
    "      f\" ${ci_lower3} and ${ci_upper3}\")"
   ]
  },
  {
   "cell_type": "markdown",
   "metadata": {},
   "source": [
    "### Ten Years Retirement Option"
   ]
  },
  {
   "cell_type": "code",
   "execution_count": null,
   "metadata": {},
   "outputs": [],
   "source": [
    "# Configured a Monte Carlo simulation to forecast 10 years cumulative returns using combined_data_df\r\n",
    "\r\n",
    "mc_10year = mcsimulation(\r\n",
    "    portfolio_data = combined_data_df,\r\n",
    "    weights = [.40,.60],\r\n",
    "    num_simulation = 500,\r\n",
    "    num_trading_days = 252*10\r\n",
    ")"
   ]
  },
  {
   "cell_type": "code",
   "execution_count": null,
   "metadata": {},
   "outputs": [],
   "source": [
    "# Initialized a Monte Carlo simulation to forecast 10 years cumulative returns.\r\n",
    "\r\n",
    "mc_10year.calc_cumulative_return()"
   ]
  },
  {
   "cell_type": "code",
   "execution_count": null,
   "metadata": {},
   "outputs": [],
   "source": [
    "# Plotted simulation outcomes for MC_10year dataframe.\r\n",
    "\r\n",
    "line_plot3 = mc_10year.plot_simulation()"
   ]
  },
  {
   "cell_type": "code",
   "execution_count": null,
   "metadata": {},
   "outputs": [],
   "source": [
    "# Plotted probability distribution and confidence intervals for MC_10year dataframe.\r\n",
    "\r\n",
    "dist_plot3 = mc_10year.plot_distribution()"
   ]
  },
  {
   "cell_type": "code",
   "execution_count": null,
   "metadata": {},
   "outputs": [],
   "source": [
    "# Created summary statistics from the Monte Carlo simulation results for MC_10year dataframe and labeled it as \"tbl3\"\r\n",
    "\r\n",
    "tbl3 = mc_10year.summarize_cumulative_return()\r\n",
    "\r\n",
    "# Printed summary statistics of \"tbl3\"\r\n",
    "\r\n",
    "tbl3"
   ]
  },
  {
   "cell_type": "code",
   "execution_count": null,
   "metadata": {},
   "outputs": [],
   "source": [
    "# Created a variable for initial investment4 with the value of 20000 * 3 \n",
    "\n",
    "initial_investment4 = 20000 * 3\n",
    "\n",
    "# Created variables for the lower and upper `95%` confidence intervals to calculate the range of the possible outcomes of our $30,000\n",
    "\n",
    "ci_lower4 = round(tbl3[8]*60000,2)\n",
    "\n",
    "ci_upper4 = round(tbl3[9]*60000,2)\n",
    "\n",
    "# Initialized results\n",
    "\n",
    "print(f\"There is a 95% chance that an initial investment of ${initial_investment4} in the portfolio\"\n",
    "      f\" over the next 10 years will end within in the range of\"\n",
    "      f\" ${ci_lower4} and ${ci_upper4}\")"
   ]
  }
 ],
 "metadata": {
  "interpreter": {
   "hash": "bfeeb0a12d0e5e2e00c55a98c4b286108b24872163e1a62fbe64d4eb0aef2e00"
  },
  "kernelspec": {
   "display_name": "Python 3.7.10 64-bit ('alpacaenc': conda)",
   "name": "python3"
  },
  "language_info": {
   "codemirror_mode": {
    "name": "ipython",
    "version": 3
   },
   "file_extension": ".py",
   "mimetype": "text/x-python",
   "name": "python",
   "nbconvert_exporter": "python",
   "pygments_lexer": "ipython3",
   "version": "3.7.10"
  },
  "nteract": {
   "version": "0.28.0"
  }
 },
 "nbformat": 4,
 "nbformat_minor": 4
}